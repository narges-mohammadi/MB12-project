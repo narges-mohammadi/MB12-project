{
 "cells": [
  {
   "cell_type": "code",
   "execution_count": 9,
   "metadata": {},
   "outputs": [],
   "source": [
    "import os\n",
    "import glob\n",
    "import re\n",
    "import gdal\n",
    "import subprocess"
   ]
  },
  {
   "cell_type": "code",
   "execution_count": null,
   "metadata": {},
   "outputs": [],
   "source": [
    "# finds the Bands in R10m folder (having .jp2 suffix) for each Sentinel2 tile\n",
    "new_path = '/mnt/c/Users/sanaz/Documents/MB12-project/CREODIAS_part/data_from_CREODIAS/testdir/'\n",
    "os.chdir(new_path)\n",
    "safe_patt = glob.glob('*.SAFE', recursive=True)\n",
    "\n",
    "path_safe = []\n",
    "length = len(safe_patt)\n",
    "for i in range(length):\n",
    "    path_safe.append(os.path.join(new_path, safe_patt[i]))\n",
    "\n",
    "len2 = len(path_safe)\n",
    "for index in range(len2):\n",
    "    #index = 0\n",
    "    path = path_safe[index] \n",
    "    path = os.path.join(path, 'GRANULE/')\n",
    "    L = os.listdir(path)\n",
    "    path = os.path.join(path, L[0])\n",
    "    path = os.path.join(path,'IMG_DATA/R10m/')\n",
    "\n",
    "    # Find the bands matching the provided pattern\n",
    "    file_array = [f for f in os.listdir(path) if re.search(r'B0[2,3,4,8]_10m.jp2$', f) ]\n",
    "\n",
    "    file_array.sort() # file is sorted list\n",
    "\n",
    "    # Creating a list containing the names of .jp2 files for later use in naming the tiff files\n",
    "    file_names = []\n",
    "    length = len(file_array)\n",
    "    for i in range(length):\n",
    "        file_names.append(file_array[i].split('.')[0])\n",
    "\n",
    "    # Create an array of the full address of each Band \n",
    "    file_array = [os.path.join(path, name) for name in file_array]\n",
    "    \n",
    "    # GO through all the .jp2 bands in a folder and convert them to tiff\n",
    "    leng=len(file_array)\n",
    "\n",
    "    for i in range(leng):\n",
    "        convertRaster(file_array[i],i,path)\n",
    "    # Remove the .jp2 bands to open up space after converting them to tiff\n",
    "    for i in range(leng):\n",
    "        os.remove(file_array[i])  \n",
    "        "
   ]
  },
  {
   "cell_type": "code",
   "execution_count": 205,
   "metadata": {},
   "outputs": [
    {
     "name": "stdout",
     "output_type": "stream",
     "text": [
      "T33TWE_20170108T095401_B08_10m\n"
     ]
    },
    {
     "data": {
      "text/plain": [
       "'/mnt/c/Users/sanaz/Documents/MB12-project/CREODIAS_part/data_from_CREODIAS/testdir/S2A_MSIL2A_20170108T095401_N0213_R079_T33TWE_20201122T181832.SAFE/GRANULE/L2A_T33TWE_A008084_20170108T095355/IMG_DATA/R10m/T33TWE_20170108T095401_B08_10m.jp2'"
      ]
     },
     "execution_count": 205,
     "metadata": {},
     "output_type": "execute_result"
    }
   ],
   "source": []
  },
  {
   "cell_type": "code",
   "execution_count": 197,
   "metadata": {},
   "outputs": [],
   "source": [
    "from osgeo import gdal\n",
    "\n",
    "# Convert raster file f from .jp2 to tiff\n",
    "def convertRaster(f,i,path):\n",
    "    raster = gdal.Open(os.path.join(path,f))                    # open raster file with GDAL\n",
    "    outname = os.path.join(path,file_names[i]+'_converted.tif') # name of output file is name of input file with '_clipped' appended\n",
    "    gdal.Translate(outname, raster)\n",
    "    raster = None\n",
    "    return outname\n",
    "\n",
    "# GO through all the .jp2 bands in a folder and convert them to tiff\n",
    "leng=len(file_array)\n",
    "\n",
    "#for i in range(leng):\n",
    "#    convertRaster(file_array[i],i,path)\n",
    "    "
   ]
  },
  {
   "cell_type": "code",
   "execution_count": 42,
   "metadata": {},
   "outputs": [],
   "source": [
    "import os\n",
    "\n",
    "# Remove the .jp2 bands to open up space after converting them to tiff\n",
    "file_array =[f for f in os.listdir(prefix_path) if re.search(r'B0[2,3,4,8]_10m.jp2$', f) ]\n",
    "\n",
    "for f in file_array:\n",
    "    os.remove(os.path.join(prefix_path, f))"
   ]
  },
  {
   "cell_type": "code",
   "execution_count": 82,
   "metadata": {},
   "outputs": [],
   "source": []
  },
  {
   "cell_type": "code",
   "execution_count": 39,
   "metadata": {},
   "outputs": [],
   "source": []
  },
  {
   "cell_type": "code",
   "execution_count": 62,
   "metadata": {},
   "outputs": [],
   "source": []
  },
  {
   "cell_type": "code",
   "execution_count": 99,
   "metadata": {},
   "outputs": [],
   "source": []
  },
  {
   "cell_type": "code",
   "execution_count": 171,
   "metadata": {},
   "outputs": [],
   "source": [
    "\n"
   ]
  },
  {
   "cell_type": "code",
   "execution_count": null,
   "metadata": {},
   "outputs": [],
   "source": []
  },
  {
   "cell_type": "code",
   "execution_count": null,
   "metadata": {},
   "outputs": [],
   "source": []
  }
 ],
 "metadata": {
  "kernelspec": {
   "display_name": "Python 3",
   "language": "python",
   "name": "python3"
  },
  "language_info": {
   "codemirror_mode": {
    "name": "ipython",
    "version": 3
   },
   "file_extension": ".py",
   "mimetype": "text/x-python",
   "name": "python",
   "nbconvert_exporter": "python",
   "pygments_lexer": "ipython3",
   "version": "3.8.3"
  }
 },
 "nbformat": 4,
 "nbformat_minor": 4
}
